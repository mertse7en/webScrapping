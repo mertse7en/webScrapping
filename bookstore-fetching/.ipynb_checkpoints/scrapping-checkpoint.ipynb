{
 "cells": [
  {
   "cell_type": "code",
   "execution_count": 1,
   "metadata": {},
   "outputs": [],
   "source": [
    "from bs4 import BeautifulSoup as bs4\n",
    "import requests\n",
    "import pandas as pd \n"
   ]
  },
  {
   "cell_type": "code",
   "execution_count": 2,
   "metadata": {},
   "outputs": [],
   "source": [
    "\n",
    "pages = []\n",
    "prices = []\n",
    "stars = []\n",
    "titles = []\n",
    "urlss = []"
   ]
  },
  {
   "cell_type": "code",
   "execution_count": 3,
   "metadata": {},
   "outputs": [],
   "source": [
    "pages_to_scrape = 50\n",
    "\n",
    "for i in range(1,pages_to_scrape+1):\n",
    "    url = (\"http://books.toscrape.com/catalogue/page-{}.html\").format(i)\n",
    "    pages.append(url)"
   ]
  },
  {
   "cell_type": "code",
   "execution_count": 4,
   "metadata": {},
   "outputs": [
    {
     "data": {
      "text/plain": [
       "['http://books.toscrape.com/catalogue/page-1.html',\n",
       " 'http://books.toscrape.com/catalogue/page-2.html',\n",
       " 'http://books.toscrape.com/catalogue/page-3.html',\n",
       " 'http://books.toscrape.com/catalogue/page-4.html',\n",
       " 'http://books.toscrape.com/catalogue/page-5.html',\n",
       " 'http://books.toscrape.com/catalogue/page-6.html',\n",
       " 'http://books.toscrape.com/catalogue/page-7.html',\n",
       " 'http://books.toscrape.com/catalogue/page-8.html',\n",
       " 'http://books.toscrape.com/catalogue/page-9.html',\n",
       " 'http://books.toscrape.com/catalogue/page-10.html',\n",
       " 'http://books.toscrape.com/catalogue/page-11.html',\n",
       " 'http://books.toscrape.com/catalogue/page-12.html',\n",
       " 'http://books.toscrape.com/catalogue/page-13.html',\n",
       " 'http://books.toscrape.com/catalogue/page-14.html',\n",
       " 'http://books.toscrape.com/catalogue/page-15.html',\n",
       " 'http://books.toscrape.com/catalogue/page-16.html',\n",
       " 'http://books.toscrape.com/catalogue/page-17.html',\n",
       " 'http://books.toscrape.com/catalogue/page-18.html',\n",
       " 'http://books.toscrape.com/catalogue/page-19.html',\n",
       " 'http://books.toscrape.com/catalogue/page-20.html',\n",
       " 'http://books.toscrape.com/catalogue/page-21.html',\n",
       " 'http://books.toscrape.com/catalogue/page-22.html',\n",
       " 'http://books.toscrape.com/catalogue/page-23.html',\n",
       " 'http://books.toscrape.com/catalogue/page-24.html',\n",
       " 'http://books.toscrape.com/catalogue/page-25.html',\n",
       " 'http://books.toscrape.com/catalogue/page-26.html',\n",
       " 'http://books.toscrape.com/catalogue/page-27.html',\n",
       " 'http://books.toscrape.com/catalogue/page-28.html',\n",
       " 'http://books.toscrape.com/catalogue/page-29.html',\n",
       " 'http://books.toscrape.com/catalogue/page-30.html',\n",
       " 'http://books.toscrape.com/catalogue/page-31.html',\n",
       " 'http://books.toscrape.com/catalogue/page-32.html',\n",
       " 'http://books.toscrape.com/catalogue/page-33.html',\n",
       " 'http://books.toscrape.com/catalogue/page-34.html',\n",
       " 'http://books.toscrape.com/catalogue/page-35.html',\n",
       " 'http://books.toscrape.com/catalogue/page-36.html',\n",
       " 'http://books.toscrape.com/catalogue/page-37.html',\n",
       " 'http://books.toscrape.com/catalogue/page-38.html',\n",
       " 'http://books.toscrape.com/catalogue/page-39.html',\n",
       " 'http://books.toscrape.com/catalogue/page-40.html',\n",
       " 'http://books.toscrape.com/catalogue/page-41.html',\n",
       " 'http://books.toscrape.com/catalogue/page-42.html',\n",
       " 'http://books.toscrape.com/catalogue/page-43.html',\n",
       " 'http://books.toscrape.com/catalogue/page-44.html',\n",
       " 'http://books.toscrape.com/catalogue/page-45.html',\n",
       " 'http://books.toscrape.com/catalogue/page-46.html',\n",
       " 'http://books.toscrape.com/catalogue/page-47.html',\n",
       " 'http://books.toscrape.com/catalogue/page-48.html',\n",
       " 'http://books.toscrape.com/catalogue/page-49.html',\n",
       " 'http://books.toscrape.com/catalogue/page-50.html']"
      ]
     },
     "execution_count": 4,
     "metadata": {},
     "output_type": "execute_result"
    }
   ],
   "source": [
    "for item in pages:\n",
    "    page = requests.get(item)\n",
    "    soup = bs4(page.text , \"lxml\")\n",
    "    print(soup.prettify)"
   ]
  },
  {
   "cell_type": "code",
   "execution_count": null,
   "metadata": {},
   "outputs": [],
   "source": []
  }
 ],
 "metadata": {
  "kernelspec": {
   "display_name": "Python 3",
   "language": "python",
   "name": "python3"
  },
  "language_info": {
   "codemirror_mode": {
    "name": "ipython",
    "version": 3
   },
   "file_extension": ".py",
   "mimetype": "text/x-python",
   "name": "python",
   "nbconvert_exporter": "python",
   "pygments_lexer": "ipython3",
   "version": "3.7.4"
  }
 },
 "nbformat": 4,
 "nbformat_minor": 2
}
